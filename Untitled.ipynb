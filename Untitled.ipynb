{
 "cells": [
  {
   "cell_type": "markdown",
   "id": "aquatic-threat",
   "metadata": {},
   "source": [
    "## Softmax Adversarial Outlier Exposure Ensembling"
   ]
  },
  {
   "cell_type": "code",
   "execution_count": 2,
   "id": "breeding-alloy",
   "metadata": {},
   "outputs": [],
   "source": [
    "from __future__ import print_function\n",
    "import numpy as np\n",
    "import sys\n",
    "import os\n",
    "from collections import defaultdict\n",
    "import random\n",
    "import torch\n",
    "import torch.nn as nn\n",
    "import torch.utils.data as utilsdata\n",
    "import torch.nn.functional as F\n",
    "import torchvision\n",
    "import torchvision.transforms as transforms\n",
    "import torchvision.datasets as tvdatasets\n",
    "import matplotlib\n",
    "matplotlib.use('TkAgg')\n",
    "import matplotlib.pyplot as plt\n",
    "import copy\n",
    "\n",
    "# Custom\n",
    "import models\n",
    "import create_split\n",
    "import Dataset_fromPythonList as custom_dset\n",
    "import helpers\n",
    "import training_helpers\n",
    "import ood_helpers\n",
    "import calculate_log as callog\n",
    "%matplotlib inline"
   ]
  },
  {
   "cell_type": "code",
   "execution_count": 3,
   "id": "wrong-complement",
   "metadata": {},
   "outputs": [],
   "source": [
    "# Constants\n",
    "device = 'cuda' if torch.cuda.is_available() else 'cpu'\n",
    "DSIZE = 64"
   ]
  },
  {
   "cell_type": "code",
   "execution_count": 4,
   "id": "double-complex",
   "metadata": {},
   "outputs": [],
   "source": [
    "# Inputs\n",
    "# Percentage of measured data for training the sample classifier (range = [0,1])\n",
    "K = float(0)\n",
    "# Number of classes to hold out as OOD classes (range = [1, 8])\n",
    "NUM_HOLDOUT_CLASSES = int(1)\n",
    "dataset_root = \"./SAMPLE_dataset/png_images/qpm\"\n",
    "REPEAT_ITERS = 1\n",
    "DATASETS = [\"ID\", \"holdout\"]\n",
    "SEED = 1234567\n",
    "random.seed(SEED)\n",
    "torch.manual_seed(SEED)\n",
    "\n",
    "# SAMPLE Classifier Learning Params\n",
    "num_epochs = 60\n",
    "batch_size = 128\n",
    "learning_rate_decay_schedule = [50]\n",
    "learning_rate = 0.001\n",
    "gamma = 0.1\n",
    "weight_decay = 0.\n",
    "dropout = 0.4\n",
    "\n",
    "# Normalization Constants for range [-1,+1]\n",
    "MEAN = torch.tensor([0.5], dtype=torch.float32).view([1,1,1]).to(device)\n",
    "STD = torch.tensor([0.5], dtype=torch.float32).view([1,1,1]).to(device)"
   ]
  },
  {
   "cell_type": "code",
   "execution_count": null,
   "id": "champion-pierce",
   "metadata": {},
   "outputs": [],
   "source": [
    "CLS = ['softmax']\n",
    "OODS = ['baseline', 'odin', 'odin_ipp', 'mahala', 'mahala_ipp']\n",
    "STAT_accuracy = {}\n",
    "STAT_ood = {}\n",
    "SAVE_CKPT = \"ckpts/soft_ensemble_advOE_exp2/\"\n",
    "\n",
    "for c in CLS:\n",
    "    STAT_accuracy[c] = []\n",
    "    STAT_ood[c] = {}\n",
    "    for ood in OODS:\n",
    "        STAT_ood[c][ood] = {}\n",
    "        for submod in range(10-NUM_HOLDOUT_CLASSES):\n",
    "            STAT_ood[c][ood][str(submod)] = {}\n",
    "            for dd in DATASETS:\n",
    "                STAT_ood[c][ood][str(submod)][dd] = defaultdict(list)\n",
    "                "
   ]
  }
 ],
 "metadata": {
  "kernelspec": {
   "display_name": "Python 3",
   "language": "python",
   "name": "python3"
  },
  "language_info": {
   "codemirror_mode": {
    "name": "ipython",
    "version": 3
   },
   "file_extension": ".py",
   "mimetype": "text/x-python",
   "name": "python",
   "nbconvert_exporter": "python",
   "pygments_lexer": "ipython3",
   "version": "3.8.5"
  }
 },
 "nbformat": 4,
 "nbformat_minor": 5
}
